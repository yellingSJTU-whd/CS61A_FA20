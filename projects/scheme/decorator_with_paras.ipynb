{
 "cells": [
  {
   "cell_type": "markdown",
   "source": [
    "## The syntax for decorators with parameters :\n",
    "\n",
    "```\n",
    "@decorator(params)\n",
    "def func_name():\n",
    "    ''' Function implementation'''\n",
    "```\n",
    "\n",
    "**The above code is equivalent to**\n",
    "\n",
    "```\n",
    "def func_name():\n",
    "    ''' Function implementation'''\n",
    "\n",
    "func_name = (decorator(params))(func_name)\n",
    "\"\"\"\n",
    "```\n"
   ],
   "metadata": {
    "collapsed": false,
    "pycharm": {
     "name": "#%% md\n"
    }
   }
  },
  {
   "cell_type": "code",
   "execution_count": 4,
   "outputs": [
    {
     "name": "stdout",
     "output_type": "stream",
     "text": [
      "Decorator for 'stringJoin'\n",
      "Decorator for 'summation'\n",
      "\n",
      "stringJoin started ...\n",
      "I like Geeksforgeeks\n",
      "summation started ...\n",
      "1729\n"
     ]
    }
   ],
   "source": [
    "# Python code to illustrate\n",
    "# Decorators with parameters in Python (Multi-level Decorators)\n",
    "\n",
    "\n",
    "def decodecorator(dataType, message1, message2):\n",
    "\tdef decorator(fun):\n",
    "\t\tprint(message1)\n",
    "\t\tdef wrapper(*args, **kwargs):\n",
    "\t\t\tprint(message2)\n",
    "\t\t\tif all([type(arg) == dataType for arg in args]):\n",
    "\t\t\t\treturn fun(*args, **kwargs)\n",
    "\t\t\treturn \"Invalid Input\"\n",
    "\t\treturn wrapper\n",
    "\treturn decorator\n",
    "\n",
    "\n",
    "@decodecorator(str, \"Decorator for 'stringJoin'\", \"stringJoin started ...\")\n",
    "def stringJoin(*args):\n",
    "\tst = ''\n",
    "\tfor i in args:\n",
    "\t\tst += i\n",
    "\treturn st\n",
    "\n",
    "\n",
    "@decodecorator(int, \"Decorator for 'summation'\\n\", \"summation started ...\")\n",
    "def summation(*args):\n",
    "\tsumm = 0\n",
    "\tfor arg in args:\n",
    "\t\tsumm += arg\n",
    "\treturn summ\n",
    "\n",
    "\n",
    "print(stringJoin(\"I \", 'like ', \"Geeks\", 'for', \"geeks\"))\n",
    "print()\n",
    "print(summation(19, 2, 8, 533, 67, 981, 119))\n"
   ],
   "metadata": {
    "collapsed": false,
    "pycharm": {
     "name": "#%%\n"
    }
   }
  }
 ],
 "metadata": {
  "kernelspec": {
   "display_name": "Python 3",
   "language": "python",
   "name": "python3"
  },
  "language_info": {
   "codemirror_mode": {
    "name": "ipython",
    "version": 2
   },
   "file_extension": ".py",
   "mimetype": "text/x-python",
   "name": "python",
   "nbconvert_exporter": "python",
   "pygments_lexer": "ipython2",
   "version": "2.7.6"
  }
 },
 "nbformat": 4,
 "nbformat_minor": 0
}