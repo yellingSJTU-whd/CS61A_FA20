{
 "cells": [
  {
   "cell_type": "code",
   "execution_count": null,
   "id": "bd283070-d735-436d-9ca5-3cdbbce2ce57",
   "metadata": {},
   "outputs": [],
   "source": [
    "import time\n",
    "import random\n",
    "\n",
    "from multiprocessing import Process, Queue, current_process\n",
    "\n",
    "\n",
    "def worker(input: Queue, output: Queue) -> None:\n",
    "    for func, args in iter(input.get, 'QUIT'):\n",
    "        result = calculate(func, args)\n",
    "        output.put(result)\n",
    "\n",
    "def calculate(func, args):\n",
    "    result = func(*args)\n",
    "    return f'{current_process().name}: {func.__name__}{args} = {result}'"
   ]
  }
 ],
 "metadata": {
  "kernelspec": {
   "display_name": "Python 3 (ipykernel)",
   "language": "python",
   "name": "python3"
  },
  "language_info": {
   "codemirror_mode": {
    "name": "ipython",
    "version": 3
   },
   "file_extension": ".py",
   "mimetype": "text/x-python",
   "name": "python",
   "nbconvert_exporter": "python",
   "pygments_lexer": "ipython3",
   "version": "3.9.6"
  }
 },
 "nbformat": 4,
 "nbformat_minor": 5
}
