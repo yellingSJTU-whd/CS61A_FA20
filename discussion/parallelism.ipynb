{
 "cells": [
  {
   "cell_type": "code",
   "execution_count": null,
   "metadata": {
    "collapsed": true
   },
   "outputs": [],
   "source": [
    "import threading\n",
    "\n",
    "\n",
    "def thread_hello():\n",
    "    other = threading.Thread(target=thread_say_hello, args=())\n",
    "    other.start()\n",
    "    thread_say_hello()\n",
    "\n",
    "\n",
    "def thread_say_hello():\n",
    "    print('hello from', threading.current_thread().name)\n",
    "\n",
    "\n",
    "thread_hello()"
   ]
  },
  {
   "cell_type": "code",
   "execution_count": null,
   "outputs": [],
   "source": [
    "import multiprocessing\n",
    "\n",
    "\n",
    "def process_hello():\n",
    "    other = multiprocessing.Process(target=process_say_hello, args=())\n",
    "    other.start()\n",
    "    process_say_hello()\n",
    "\n",
    "\n",
    "def process_say_hello():\n",
    "    print('hello from', multiprocessing.current_process().name)\n",
    "\n",
    "\n",
    "process_hello()"
   ],
   "metadata": {
    "collapsed": false
   }
  },
  {
   "cell_type": "code",
   "execution_count": null,
   "outputs": [],
   "source": [
    "items = []\n",
    "flag = []\n",
    "\n",
    "\n",
    "def consume():\n",
    "    while not flag:\n",
    "        pass\n",
    "    print('items is', items)\n",
    "\n",
    "\n",
    "def produce():\n",
    "    consumer = threading.Thread(target=consume, args=())\n",
    "    consumer.start()\n",
    "    for i in range(10):\n",
    "        items.append(i)\n",
    "    flag.append('go')\n",
    "\n",
    "\n",
    "produce()"
   ],
   "metadata": {
    "collapsed": false
   }
  },
  {
   "cell_type": "code",
   "execution_count": null,
   "outputs": [],
   "source": [
    "from queue import Queue\n",
    "import threading\n",
    "\n",
    "queue = Queue()\n",
    "\n",
    "\n",
    "def synchronized_consume():\n",
    "    while True:\n",
    "        print('got an item:', queue.get())\n",
    "        queue.task_done()\n",
    "\n",
    "\n",
    "def synchronized_produce():\n",
    "    consumer = threading.Thread(target=synchronized_consume(), args=())\n",
    "    consumer.daemon = True\n",
    "    consumer.start()\n",
    "    for i in range(10):\n",
    "        queue.put(i)\n",
    "    queue.join()\n",
    "\n",
    "\n",
    "synchronized_produce()"
   ],
   "metadata": {
    "collapsed": false
   }
  },
  {
   "cell_type": "code",
   "execution_count": null,
   "outputs": [],
   "source": [
    "import threading\n",
    "\n",
    "seen = set()\n",
    "seen_lock = threading.Lock()\n",
    "\n",
    "\n",
    "def already_seen(item):\n",
    "    seen_lock.acquire()\n",
    "    result = True\n",
    "    if item not in seen:\n",
    "        seen.add(item)\n",
    "        result = False\n",
    "    seen_lock.release()\n",
    "    return result\n",
    "\n",
    "\n",
    "def already_seen2(item):\n",
    "    with seen_lock:\n",
    "        if item not in seen:\n",
    "            seen.add(item)\n",
    "            return False\n",
    "        return True"
   ],
   "metadata": {
    "collapsed": false
   }
  },
  {
   "cell_type": "code",
   "execution_count": 2,
   "outputs": [
    {
     "name": "stdout",
     "output_type": "stream",
     "text": [
      "readingreading MainThread other = 0\n",
      " Thread-6 other = 0\n",
      "writing Thread-6 this = 1\n",
      "writing MainThread this = 1\n",
      "reading Thread-6 other = 1\n",
      "reading MainThread other = 1\n",
      "writing Thread-6 this = 2\n",
      "writing MainThread this = 2\n",
      "reading Thread-6 other = 2\n",
      "reading MainThread other = 2\n",
      "writing Thread-6 this = 3\n",
      "writing MainThread this = 3\n",
      "reading Thread-6 other = 3\n",
      "reading MainThread other = 3\n",
      "writing Thread-6 this = 4\n",
      "writing MainThread this = 4\n",
      "reading Thread-6 other = 4\n",
      "reading MainThread other = 4\n",
      "writing Thread-6 this = 5\n",
      "writing MainThread this = 5\n",
      "reading Thread-6 other = 5\n",
      "reading MainThread other = 5\n",
      "writing Thread-6 this = 6\n",
      "writing MainThread this = 6\n",
      "reading Thread-6 other = 6\n",
      "reading MainThread other = 6\n",
      "writing Thread-6 this = 7\n",
      "writing MainThread this = 7\n",
      "reading Thread-6 other = 7\n",
      "reading MainThread other = 7\n",
      "writing Thread-6 this = 8\n",
      "writing MainThread this = 8\n",
      "reading Thread-6 other = 8\n",
      "reading MainThread other = 8\n",
      "writing Thread-6 this = 9\n",
      "writing MainThread this = 9\n",
      "reading Thread-6 other = 9\n",
      "reading MainThread other = 9\n",
      "writing Thread-6 this = 10\n",
      "writing MainThread this = 10\n",
      "counters: [10, 10]\n"
     ]
    }
   ],
   "source": [
    "import threading\n",
    "\n",
    "counters = [0, 0]\n",
    "barrier = threading.Barrier(2)\n",
    "\n",
    "\n",
    "def count(thread_num, steps):\n",
    "    for i in range(steps):\n",
    "        other = counters[1 - thread_num]\n",
    "        print('reading', threading.current_thread().name, f'other = {other}')\n",
    "        barrier.wait()  # wait for reads to complete\n",
    "        counters[thread_num] = other + 1\n",
    "        print('writing', threading.current_thread().name, f'this = {counters[thread_num]}')\n",
    "        barrier.wait()  # wait for writes to complete\n",
    "\n",
    "\n",
    "def threaded_count(steps):\n",
    "    other = threading.Thread(target=count, args=(1, steps))\n",
    "    other.start()\n",
    "    count(0, steps)\n",
    "    print('counters:', counters)\n",
    "\n",
    "\n",
    "threaded_count(10)"
   ],
   "metadata": {
    "collapsed": false
   }
  },
  {
   "cell_type": "code",
   "execution_count": 1,
   "outputs": [],
   "source": [
    "import multiprocessing\n",
    "\n",
    "\n",
    "def process_consume(in_pipe):\n",
    "    while True:\n",
    "        item = in_pipe.recv()\n",
    "        if item is None:\n",
    "            return\n",
    "        print('got an item:', item)\n",
    "\n",
    "\n",
    "def process_produce():\n",
    "    pipe = multiprocessing.Pipe(False)\n",
    "    consumer = multiprocessing.Process(target=process_consume, args=(pipe[0],))\n",
    "    consumer.start()\n",
    "    for i in range(10):\n",
    "        pipe[1].send(i)\n",
    "    pipe[1].send(None)  # done signal\n",
    "\n",
    "\n",
    "process_produce()"
   ],
   "metadata": {
    "collapsed": false
   }
  }
 ],
 "metadata": {
  "kernelspec": {
   "display_name": "Python 3",
   "language": "python",
   "name": "python3"
  },
  "language_info": {
   "codemirror_mode": {
    "name": "ipython",
    "version": 2
   },
   "file_extension": ".py",
   "mimetype": "text/x-python",
   "name": "python",
   "nbconvert_exporter": "python",
   "pygments_lexer": "ipython2",
   "version": "2.7.6"
  }
 },
 "nbformat": 4,
 "nbformat_minor": 0
}
