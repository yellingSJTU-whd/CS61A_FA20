{
 "cells": [
  {
   "cell_type": "code",
   "execution_count": 13,
   "metadata": {
    "collapsed": true
   },
   "outputs": [
    {
     "name": "stdout",
     "output_type": "stream",
     "text": [
      "hello fromhello from MainThread\n",
      " Thread-10 (thread_say_hello)\n"
     ]
    }
   ],
   "source": [
    "import threading\n",
    "\n",
    "\n",
    "def thread_hello():\n",
    "    other = threading.Thread(target=thread_say_hello, args=())\n",
    "    other.start()\n",
    "    thread_say_hello()\n",
    "\n",
    "\n",
    "def thread_say_hello():\n",
    "    print('hello from', threading.current_thread().name)\n",
    "\n",
    "\n",
    "thread_hello()"
   ]
  },
  {
   "cell_type": "code",
   "execution_count": 12,
   "outputs": [
    {
     "name": "stdout",
     "output_type": "stream",
     "text": [
      "hello from MainProcess\n"
     ]
    }
   ],
   "source": [
    "import multiprocessing\n",
    "\n",
    "\n",
    "def process_hello():\n",
    "    other = multiprocessing.Process(target=process_say_hello, args=())\n",
    "    other.start()\n",
    "    process_say_hello()\n",
    "\n",
    "\n",
    "def process_say_hello():\n",
    "    print('hello from', multiprocessing.current_process().name)\n",
    "\n",
    "\n",
    "process_hello()"
   ],
   "metadata": {
    "collapsed": false
   }
  },
  {
   "cell_type": "code",
   "execution_count": 14,
   "outputs": [
    {
     "name": "stdout",
     "output_type": "stream",
     "text": [
      "items is [0, 1, 2, 3, 4, 5, 6, 7, 8, 9]\n"
     ]
    }
   ],
   "source": [
    "items = []\n",
    "flag = []\n",
    "\n",
    "\n",
    "def consume():\n",
    "    while not flag:\n",
    "        pass\n",
    "    print('items is', items)\n",
    "\n",
    "\n",
    "def produce():\n",
    "    consumer = threading.Thread(target=consume, args=())\n",
    "    consumer.start()\n",
    "    for i in range(10):\n",
    "        items.append(i)\n",
    "    flag.append('go')\n",
    "\n",
    "\n",
    "produce()"
   ],
   "metadata": {
    "collapsed": false
   }
  },
  {
   "cell_type": "code",
   "execution_count": null,
   "outputs": [],
   "source": [
    "from queue import Queue\n",
    "\n",
    "queue = Queue()\n",
    "\n",
    "\n",
    "def synchronized_consume():\n",
    "    while True:\n",
    "        print('got an item:', queue.get())\n",
    "        queue.task_done()\n",
    "\n",
    "\n",
    "def synchronized_produce():\n",
    "    consumer = threading.Thread(target=synchronized_consume(), args=())\n",
    "    consumer.daemon = True\n",
    "    consumer.start()\n",
    "    for i in range(10):\n",
    "        queue.put(i)\n",
    "    queue.join()\n",
    "\n",
    "\n",
    "synchronized_produce()"
   ],
   "metadata": {
    "collapsed": false
   }
  }
 ],
 "metadata": {
  "kernelspec": {
   "display_name": "Python 3",
   "language": "python",
   "name": "python3"
  },
  "language_info": {
   "codemirror_mode": {
    "name": "ipython",
    "version": 2
   },
   "file_extension": ".py",
   "mimetype": "text/x-python",
   "name": "python",
   "nbconvert_exporter": "python",
   "pygments_lexer": "ipython2",
   "version": "2.7.6"
  }
 },
 "nbformat": 4,
 "nbformat_minor": 0
}
